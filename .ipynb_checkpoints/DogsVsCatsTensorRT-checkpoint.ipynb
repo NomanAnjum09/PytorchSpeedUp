{
 "cells": [
  {
   "cell_type": "code",
   "execution_count": 1,
   "id": "5178ae4d",
   "metadata": {},
   "outputs": [],
   "source": [
    "import torch\n",
    "import tensorrt\n",
    "import torch_tensorrt\n",
    "import os\n",
    "from PIL import Image\n",
    "import torch\n",
    "from torch.utils.data import Dataset, DataLoader\n",
    "from torchvision import transforms\n",
    "import torch.nn as nn\n",
    "from torchvision.datasets import MNIST\n",
    "from torch.utils.data import random_split\n",
    "import torch.nn.functional as F\n",
    "import numpy as np"
   ]
  },
  {
   "cell_type": "code",
   "execution_count": 2,
   "id": "8e9128bf",
   "metadata": {},
   "outputs": [
    {
     "name": "stdout",
     "output_type": "stream",
     "text": [
      "Downloading http://yann.lecun.com/exdb/mnist/train-images-idx3-ubyte.gz\n",
      "Failed to download (trying next):\n",
      "HTTP Error 403: Forbidden\n",
      "\n",
      "Downloading https://ossci-datasets.s3.amazonaws.com/mnist/train-images-idx3-ubyte.gz\n",
      "Downloading https://ossci-datasets.s3.amazonaws.com/mnist/train-images-idx3-ubyte.gz to data/MNIST/raw/train-images-idx3-ubyte.gz\n"
     ]
    },
    {
     "name": "stderr",
     "output_type": "stream",
     "text": [
      "100%|█████████████████████████████| 9912422/9912422 [00:24<00:00, 407040.30it/s]\n"
     ]
    },
    {
     "name": "stdout",
     "output_type": "stream",
     "text": [
      "Extracting data/MNIST/raw/train-images-idx3-ubyte.gz to data/MNIST/raw\n",
      "\n",
      "Downloading http://yann.lecun.com/exdb/mnist/train-labels-idx1-ubyte.gz\n",
      "Failed to download (trying next):\n",
      "HTTP Error 403: Forbidden\n",
      "\n",
      "Downloading https://ossci-datasets.s3.amazonaws.com/mnist/train-labels-idx1-ubyte.gz\n",
      "Downloading https://ossci-datasets.s3.amazonaws.com/mnist/train-labels-idx1-ubyte.gz to data/MNIST/raw/train-labels-idx1-ubyte.gz\n"
     ]
    },
    {
     "name": "stderr",
     "output_type": "stream",
     "text": [
      "100%|██████████████████████████████████| 28881/28881 [00:00<00:00, 87321.43it/s]\n"
     ]
    },
    {
     "name": "stdout",
     "output_type": "stream",
     "text": [
      "Extracting data/MNIST/raw/train-labels-idx1-ubyte.gz to data/MNIST/raw\n",
      "\n",
      "Downloading http://yann.lecun.com/exdb/mnist/t10k-images-idx3-ubyte.gz\n",
      "Failed to download (trying next):\n",
      "HTTP Error 403: Forbidden\n",
      "\n",
      "Downloading https://ossci-datasets.s3.amazonaws.com/mnist/t10k-images-idx3-ubyte.gz\n",
      "Downloading https://ossci-datasets.s3.amazonaws.com/mnist/t10k-images-idx3-ubyte.gz to data/MNIST/raw/t10k-images-idx3-ubyte.gz\n"
     ]
    },
    {
     "name": "stderr",
     "output_type": "stream",
     "text": [
      "100%|█████████████████████████████| 1648877/1648877 [00:02<00:00, 592050.78it/s]\n"
     ]
    },
    {
     "name": "stdout",
     "output_type": "stream",
     "text": [
      "Extracting data/MNIST/raw/t10k-images-idx3-ubyte.gz to data/MNIST/raw\n",
      "\n",
      "Downloading http://yann.lecun.com/exdb/mnist/t10k-labels-idx1-ubyte.gz\n",
      "Failed to download (trying next):\n",
      "HTTP Error 403: Forbidden\n",
      "\n",
      "Downloading https://ossci-datasets.s3.amazonaws.com/mnist/t10k-labels-idx1-ubyte.gz\n",
      "Downloading https://ossci-datasets.s3.amazonaws.com/mnist/t10k-labels-idx1-ubyte.gz to data/MNIST/raw/t10k-labels-idx1-ubyte.gz\n"
     ]
    },
    {
     "name": "stderr",
     "output_type": "stream",
     "text": [
      "100%|██████████████████████████████████| 4542/4542 [00:00<00:00, 5750235.06it/s]\n"
     ]
    },
    {
     "name": "stdout",
     "output_type": "stream",
     "text": [
      "Extracting data/MNIST/raw/t10k-labels-idx1-ubyte.gz to data/MNIST/raw\n",
      "\n",
      "Dataset MNIST\n",
      "    Number of datapoints: 60000\n",
      "    Root location: data/\n",
      "    Split: Train\n",
      "    StandardTransform\n",
      "Transform: ToTensor()\n"
     ]
    }
   ],
   "source": [
    "mnist_dataset = MNIST(root = 'data/',download = True, train = True, transform = transforms.ToTensor())\n",
    "print(mnist_dataset)"
   ]
  },
  {
   "cell_type": "code",
   "execution_count": 3,
   "id": "b50b3a74",
   "metadata": {},
   "outputs": [],
   "source": [
    "batch_size = 500\n",
    "train_data, validation_data = random_split(mnist_dataset, [50000, 10000])\n",
    "\n",
    "train_loader = DataLoader(train_data, batch_size, shuffle = True)\n",
    "val_loader = DataLoader(validation_data, batch_size, shuffle = False)"
   ]
  },
  {
   "cell_type": "code",
   "execution_count": 4,
   "id": "37d9ec48",
   "metadata": {},
   "outputs": [],
   "source": [
    "class Amnist(nn.Module):\n",
    "    def __init__(self,num_classes):\n",
    "        super(Amnist, self).__init__()\n",
    "        self.conv1 = nn.Conv2d(1, 64, 3, 1)\n",
    "        self.conv2 = nn.Conv2d(64, 512, 3, 1)\n",
    "        self.dropout1 = nn.Dropout(0.25)\n",
    "        self.conv3 = nn.Conv2d(512, 128, 3, 1)\n",
    "        self.dropout2 = nn.Dropout(0.5)\n",
    "        self.fc1 = nn.Linear(12800, 128)\n",
    "        self.fc2 = nn.Linear(128, 10)\n",
    "\n",
    "    def forward(self, x):\n",
    "        x = self.conv1(x)\n",
    "        x = F.relu(x)\n",
    "        x = self.conv2(x)\n",
    "        x = F.relu(x)\n",
    "        x = F.max_pool2d(x, 2)\n",
    "        x = self.dropout1(x)\n",
    "        x = self.conv3(x)\n",
    "        x = torch.flatten(x, 1)\n",
    "        x = self.fc1(x)\n",
    "        x = F.relu(x)\n",
    "        x = self.dropout2(x)\n",
    "        x = self.fc2(x)\n",
    "        output = F.log_softmax(x, dim=1)\n",
    "        return output\n",
    "        \n",
    "        "
   ]
  },
  {
   "cell_type": "code",
   "execution_count": 15,
   "id": "cfafa484",
   "metadata": {},
   "outputs": [],
   "source": [
    "class AmnistClassifier:\n",
    "    def __init__(self):\n",
    "        self.num_epochs = 10\n",
    "        self.lr = 0.005\n",
    "\n",
    "        self.criterion = nn.CrossEntropyLoss()\n",
    "        self.device = \"cuda\"\n",
    "        self.model = Amnist(10).to(self.device)\n",
    "        self.optimizer = torch.optim.SGD(self.model.parameters(), lr = self.lr)\n",
    "    \n",
    "    def train_epoch(self):\n",
    "        epoch_loss = 0\n",
    "        for i, (images, labels) in enumerate(train_loader):\n",
    "\n",
    "            images = images.to(self.device)\n",
    "            labels = labels.to(self.device)\n",
    "            # forward pass\n",
    "            out = self.model(images)\n",
    "            loss = self.criterion(out, labels)\n",
    "            epoch_loss += loss\n",
    "\n",
    "            # backward pass\n",
    "            self.optimizer.zero_grad()\n",
    "            loss.backward()\n",
    "            self.optimizer.step()\n",
    "\n",
    "        return epoch_loss / len(train_loader)\n",
    "    \n",
    "    def accuracy(self,outputs, labels):\n",
    "        _, preds = torch.max(outputs, dim = 1)\n",
    "        return(torch.tensor(torch.sum(preds == labels).item()/ len(preds)))\n",
    "    \n",
    "    def val_epoch(self):\n",
    "        epoch_loss = 0\n",
    "        acc = []\n",
    "        with torch.no_grad():\n",
    "            for i, (images, labels) in enumerate(val_loader):\n",
    "\n",
    "                images = images.to(self.device)\n",
    "                labels = labels.to(self.device)\n",
    "\n",
    "                # forward pass\n",
    "                out = self.model(images)\n",
    "                loss = self.criterion(out, labels)\n",
    "                epoch_loss += loss\n",
    "                acc.append(self.accuracy(out,labels))\n",
    "                \n",
    "        print(f'Accuracy: {np.mean(acc):.4f}')\n",
    "        return epoch_loss / len(val_loader)\n",
    "    \n",
    "    \n",
    "    \n",
    "    def train(self,num_epochs):\n",
    "        train_losses = []\n",
    "        val_losses = []\n",
    "        best_score = float(\"inf\")\n",
    "        tol = 0\n",
    "\n",
    "        for epoch in range(num_epochs):\n",
    "            print(f\"epoch {epoch+1}:\")\n",
    "\n",
    "            self.model.train(True)\n",
    "            avg_train_epoch_loss = self.train_epoch()\n",
    "\n",
    "            self.model.eval()\n",
    "            avg_val_epoch_loss = self.val_epoch()\n",
    "\n",
    "            if(avg_val_epoch_loss < best_score):\n",
    "                best_score = avg_val_epoch_loss\n",
    "                print(\"Saving ...\")\n",
    "                torch.save(self.model.state_dict(), f\"./saves/best.pt\")\n",
    "            else:\n",
    "                tol += 1\n",
    "                if(tol == 4):\n",
    "                    break\n",
    "\n",
    "\n",
    "            train_losses.append(avg_train_epoch_loss)\n",
    "            val_losses.append(avg_val_epoch_loss)\n",
    "\n",
    "\n",
    "            print(f\"epoch: {epoch+1} --- avg_train_loss = {avg_train_epoch_loss} --- avg_val_loss = {avg_val_epoch_loss}\") \n",
    "            print(\"#\"*100)\n",
    "     \n",
    "    \n",
    "    "
   ]
  },
  {
   "cell_type": "code",
   "execution_count": 16,
   "id": "1e44026e",
   "metadata": {},
   "outputs": [
    {
     "name": "stdout",
     "output_type": "stream",
     "text": [
      "epoch 1:\n",
      "Accuracy: 0.6107\n",
      "Saving ...\n",
      "epoch: 1 --- avg_train_loss = 2.2665655612945557 --- avg_val_loss = 2.204348087310791\n",
      "####################################################################################################\n",
      "epoch 2:\n",
      "Accuracy: 0.7279\n",
      "Saving ...\n",
      "epoch: 2 --- avg_train_loss = 1.9955836534500122 --- avg_val_loss = 1.54622483253479\n",
      "####################################################################################################\n",
      "epoch 3:\n",
      "Accuracy: 0.8312\n",
      "Saving ...\n",
      "epoch: 3 --- avg_train_loss = 1.1320126056671143 --- avg_val_loss = 0.6852446794509888\n",
      "####################################################################################################\n",
      "epoch 4:\n",
      "Accuracy: 0.8646\n",
      "Saving ...\n",
      "epoch: 4 --- avg_train_loss = 0.7063223719596863 --- avg_val_loss = 0.4999699294567108\n",
      "####################################################################################################\n",
      "epoch 5:\n",
      "Accuracy: 0.8767\n",
      "Saving ...\n",
      "epoch: 5 --- avg_train_loss = 0.5795972347259521 --- avg_val_loss = 0.42552080750465393\n",
      "####################################################################################################\n",
      "epoch 6:\n",
      "Accuracy: 0.8880\n",
      "Saving ...\n",
      "epoch: 6 --- avg_train_loss = 0.5130563974380493 --- avg_val_loss = 0.38501983880996704\n",
      "####################################################################################################\n",
      "epoch 7:\n",
      "Accuracy: 0.8943\n",
      "Saving ...\n",
      "epoch: 7 --- avg_train_loss = 0.4688795804977417 --- avg_val_loss = 0.3571323752403259\n",
      "####################################################################################################\n",
      "epoch 8:\n",
      "Accuracy: 0.8994\n",
      "Saving ...\n",
      "epoch: 8 --- avg_train_loss = 0.44162100553512573 --- avg_val_loss = 0.3339201807975769\n",
      "####################################################################################################\n",
      "epoch 9:\n",
      "Accuracy: 0.9048\n",
      "Saving ...\n",
      "epoch: 9 --- avg_train_loss = 0.41590166091918945 --- avg_val_loss = 0.31484419107437134\n",
      "####################################################################################################\n",
      "epoch 10:\n",
      "Accuracy: 0.9116\n",
      "Saving ...\n",
      "epoch: 10 --- avg_train_loss = 0.39586156606674194 --- avg_val_loss = 0.2980625629425049\n",
      "####################################################################################################\n"
     ]
    }
   ],
   "source": [
    "classifier = AmnistClassifier()\n",
    "classifier.train(10)\n",
    "        "
   ]
  },
  {
   "cell_type": "code",
   "execution_count": 17,
   "id": "72c77dc7",
   "metadata": {},
   "outputs": [],
   "source": [
    "import time \n",
    "import numpy as np\n",
    "\n",
    "def accuracy(outputs, labels):\n",
    "    _, preds = torch.max(outputs, dim = 1)\n",
    "    return(torch.tensor(torch.sum(preds == labels).item()/ len(preds)))\n",
    "    \n",
    "def infer(model,loader):\n",
    "    epoch_loss = 0\n",
    "    acc = []\n",
    "    device = \"cuda\"\n",
    "    fps_arr = []\n",
    "    with torch.no_grad():\n",
    "        for i, (images, labels) in enumerate(loader):\n",
    "            images = images.to(device)\n",
    "            labels = labels.to(device)\n",
    "            if images.shape[0] !=500:\n",
    "                continue\n",
    "            # forward pass\n",
    "            start = time.time()\n",
    "            out = model(images)\n",
    "            fps_arr.append(1/(time.time()-start))\n",
    "            acc.append(accuracy(out,labels))\n",
    "\n",
    "    print(f'Accuracy: {np.mean(acc):.4f}, AVG FPS: {np.mean(fps_arr)}')\n",
    "    return np.mean(acc)"
   ]
  },
  {
   "cell_type": "code",
   "execution_count": 18,
   "id": "cbb3ce40",
   "metadata": {},
   "outputs": [
    {
     "data": {
      "text/plain": [
       "Amnist(\n",
       "  (conv1): Conv2d(1, 64, kernel_size=(3, 3), stride=(1, 1))\n",
       "  (conv2): Conv2d(64, 512, kernel_size=(3, 3), stride=(1, 1))\n",
       "  (dropout1): Dropout(p=0.25, inplace=False)\n",
       "  (conv3): Conv2d(512, 128, kernel_size=(3, 3), stride=(1, 1))\n",
       "  (dropout2): Dropout(p=0.5, inplace=False)\n",
       "  (fc1): Linear(in_features=12800, out_features=128, bias=True)\n",
       "  (fc2): Linear(in_features=128, out_features=10, bias=True)\n",
       ")"
      ]
     },
     "execution_count": 18,
     "metadata": {},
     "output_type": "execute_result"
    }
   ],
   "source": [
    "classifier = AmnistClassifier()\n",
    "classifier.model.load_state_dict(torch.load(\"./saves/best.pt\"))\n",
    "classifier.model.eval()\n"
   ]
  },
  {
   "cell_type": "code",
   "execution_count": 19,
   "id": "09c783b7",
   "metadata": {},
   "outputs": [
    {
     "name": "stdout",
     "output_type": "stream",
     "text": [
      "Accuracy: 0.9116, AVG FPS: 2778.561027051984\n"
     ]
    },
    {
     "data": {
      "text/plain": [
       "0.91159993"
      ]
     },
     "execution_count": 19,
     "metadata": {},
     "output_type": "execute_result"
    }
   ],
   "source": [
    "infer(classifier.model.to(\"cuda\"),val_loader)"
   ]
  },
  {
   "cell_type": "code",
   "execution_count": 20,
   "id": "d82d9974",
   "metadata": {},
   "outputs": [],
   "source": [
    "model = classifier.model.eval().to(\"cuda\")"
   ]
  },
  {
   "cell_type": "code",
   "execution_count": 21,
   "id": "0e743595",
   "metadata": {},
   "outputs": [],
   "source": [
    "script = torch.jit.script(model)"
   ]
  },
  {
   "cell_type": "code",
   "execution_count": 22,
   "id": "8d6f24e0",
   "metadata": {},
   "outputs": [
    {
     "name": "stderr",
     "output_type": "stream",
     "text": [
      "WARNING:torch_tensorrt._compile:Input graph is a Torchscript module but the ir provided is default (dynamo). Please set ir=torchscript to suppress the warning. Compiling the module with ir=torchscript\n",
      "WARNING: [Torch-TensorRT] - Dilation not used in Max pooling converter\n"
     ]
    }
   ],
   "source": [
    "trt_model_fp32 = torch_tensorrt.compile(script, inputs = [torch_tensorrt.Input((500, 1, 28, 28), dtype=torch.float32)],\n",
    "    enabled_precisions = {torch.float32}, # Run with FP32\n",
    "    workspace_size = 1 << 22\n",
    ")\n",
    "#torch.jit.save(trt_model_fp32, \"trt_model.ts\")"
   ]
  },
  {
   "cell_type": "code",
   "execution_count": 23,
   "id": "a12048c3",
   "metadata": {},
   "outputs": [
    {
     "name": "stdout",
     "output_type": "stream",
     "text": [
      "Accuracy: 0.9115, AVG FPS: 10749.285007499368\n"
     ]
    },
    {
     "data": {
      "text/plain": [
       "0.9115"
      ]
     },
     "execution_count": 23,
     "metadata": {},
     "output_type": "execute_result"
    }
   ],
   "source": [
    "infer(trt_model_fp32,val_loader)"
   ]
  },
  {
   "cell_type": "code",
   "execution_count": 24,
   "id": "dbe5bc52",
   "metadata": {},
   "outputs": [
    {
     "data": {
      "text/plain": [
       "3.8693304535637147"
      ]
     },
     "execution_count": 24,
     "metadata": {},
     "output_type": "execute_result"
    }
   ],
   "source": [
    "10749/2778"
   ]
  },
  {
   "cell_type": "code",
   "execution_count": 25,
   "id": "3416566d",
   "metadata": {},
   "outputs": [
    {
     "name": "stderr",
     "output_type": "stream",
     "text": [
      "WARNING:torch_tensorrt._compile:Input graph is a Torchscript module but the ir provided is default (dynamo). Please set ir=torchscript to suppress the warning. Compiling the module with ir=torchscript\n",
      "WARNING: [Torch-TensorRT] - Dilation not used in Max pooling converter\n",
      "WARNING: [Torch-TensorRT TorchScript Conversion Context] - TensorRT encountered issues when converting weights between types and that could affect accuracy.\n",
      "WARNING: [Torch-TensorRT TorchScript Conversion Context] - If this is not the desired behavior, please modify the weights or retrain with regularization to adjust the magnitude of the weights.\n",
      "WARNING: [Torch-TensorRT TorchScript Conversion Context] - Check verbose logs for the list of affected weights.\n",
      "WARNING: [Torch-TensorRT TorchScript Conversion Context] - - 5 weights are affected by this issue: Detected subnormal FP16 values.\n",
      "WARNING: [Torch-TensorRT TorchScript Conversion Context] - - 2 weights are affected by this issue: Detected values less than smallest positive FP16 subnormal value and converted them to the FP16 minimum subnormalized value.\n"
     ]
    }
   ],
   "source": [
    "trt_model_fp16 = torch_tensorrt.compile(script, inputs = [torch_tensorrt.Input((500, 1, 28, 28), dtype=torch.float32)],\n",
    "    enabled_precisions = {torch.float16}, # Run with FP32\n",
    "    workspace_size = 1 << 22\n",
    ")"
   ]
  },
  {
   "cell_type": "code",
   "execution_count": 31,
   "id": "84a9ba0d",
   "metadata": {},
   "outputs": [
    {
     "name": "stdout",
     "output_type": "stream",
     "text": [
      "Accuracy: 0.9116, AVG FPS: 11617.207748999213\n"
     ]
    },
    {
     "data": {
      "text/plain": [
       "0.91159993"
      ]
     },
     "execution_count": 31,
     "metadata": {},
     "output_type": "execute_result"
    }
   ],
   "source": [
    "infer(trt_model_fp16,val_loader)"
   ]
  },
  {
   "cell_type": "code",
   "execution_count": null,
   "id": "ed192270",
   "metadata": {},
   "outputs": [],
   "source": []
  },
  {
   "cell_type": "code",
   "execution_count": null,
   "id": "0fafd289",
   "metadata": {},
   "outputs": [],
   "source": []
  }
 ],
 "metadata": {
  "kernelspec": {
   "display_name": "tensorrt",
   "language": "python",
   "name": "tensorrt"
  },
  "language_info": {
   "codemirror_mode": {
    "name": "ipython",
    "version": 3
   },
   "file_extension": ".py",
   "mimetype": "text/x-python",
   "name": "python",
   "nbconvert_exporter": "python",
   "pygments_lexer": "ipython3",
   "version": "3.10.12"
  }
 },
 "nbformat": 4,
 "nbformat_minor": 5
}
